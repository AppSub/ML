{
 "cells": [
  {
   "cell_type": "code",
   "execution_count": 1,
   "metadata": {},
   "outputs": [],
   "source": [
    "import pandas as pd\n",
    "import numpy as np"
   ]
  },
  {
   "cell_type": "code",
   "execution_count": 2,
   "metadata": {},
   "outputs": [],
   "source": [
    "# Reading dataset \n",
    "df = pd.read_csv(\"sport_dataset.csv\")"
   ]
  },
  {
   "cell_type": "code",
   "execution_count": 3,
   "metadata": {},
   "outputs": [
    {
     "data": {
      "text/html": [
       "<div>\n",
       "<style scoped>\n",
       "    .dataframe tbody tr th:only-of-type {\n",
       "        vertical-align: middle;\n",
       "    }\n",
       "\n",
       "    .dataframe tbody tr th {\n",
       "        vertical-align: top;\n",
       "    }\n",
       "\n",
       "    .dataframe thead th {\n",
       "        text-align: right;\n",
       "    }\n",
       "</style>\n",
       "<table border=\"1\" class=\"dataframe\">\n",
       "  <thead>\n",
       "    <tr style=\"text-align: right;\">\n",
       "      <th></th>\n",
       "      <th>Sky</th>\n",
       "      <th>Temp</th>\n",
       "      <th>Humidity</th>\n",
       "      <th>Wind</th>\n",
       "      <th>Weather</th>\n",
       "      <th>Forecast</th>\n",
       "      <th>EnjoySport?</th>\n",
       "    </tr>\n",
       "  </thead>\n",
       "  <tbody>\n",
       "    <tr>\n",
       "      <th>0</th>\n",
       "      <td>Sunny</td>\n",
       "      <td>Warm</td>\n",
       "      <td>Normal</td>\n",
       "      <td>Strong</td>\n",
       "      <td>Warm</td>\n",
       "      <td>Same</td>\n",
       "      <td>Yes</td>\n",
       "    </tr>\n",
       "    <tr>\n",
       "      <th>1</th>\n",
       "      <td>Sunny</td>\n",
       "      <td>Warm</td>\n",
       "      <td>High</td>\n",
       "      <td>Strong</td>\n",
       "      <td>Warm</td>\n",
       "      <td>Same</td>\n",
       "      <td>Yes</td>\n",
       "    </tr>\n",
       "    <tr>\n",
       "      <th>2</th>\n",
       "      <td>Rainy</td>\n",
       "      <td>Cold</td>\n",
       "      <td>High</td>\n",
       "      <td>Strong</td>\n",
       "      <td>Warm</td>\n",
       "      <td>Change</td>\n",
       "      <td>No</td>\n",
       "    </tr>\n",
       "    <tr>\n",
       "      <th>3</th>\n",
       "      <td>Sunny</td>\n",
       "      <td>Warm</td>\n",
       "      <td>High</td>\n",
       "      <td>Strong</td>\n",
       "      <td>Cool</td>\n",
       "      <td>Change</td>\n",
       "      <td>Yes</td>\n",
       "    </tr>\n",
       "  </tbody>\n",
       "</table>\n",
       "</div>"
      ],
      "text/plain": [
       "     Sky  Temp Humidity    Wind Weather Forecast EnjoySport?\n",
       "0  Sunny  Warm   Normal  Strong    Warm     Same         Yes\n",
       "1  Sunny  Warm     High  Strong    Warm     Same         Yes\n",
       "2  Rainy  Cold     High  Strong    Warm   Change          No\n",
       "3  Sunny  Warm     High  Strong    Cool   Change         Yes"
      ]
     },
     "execution_count": 3,
     "metadata": {},
     "output_type": "execute_result"
    }
   ],
   "source": [
    "df"
   ]
  },
  {
   "cell_type": "code",
   "execution_count": 4,
   "metadata": {},
   "outputs": [
    {
     "name": "stdout",
     "output_type": "stream",
     "text": [
      "(4, 7)\n"
     ]
    }
   ],
   "source": [
    "print(df.shape)"
   ]
  },
  {
   "cell_type": "code",
   "execution_count": 5,
   "metadata": {},
   "outputs": [
    {
     "name": "stdout",
     "output_type": "stream",
     "text": [
      "<class 'pandas.core.frame.DataFrame'>\n",
      "RangeIndex: 4 entries, 0 to 3\n",
      "Data columns (total 7 columns):\n",
      "Sky            4 non-null object\n",
      "Temp           4 non-null object\n",
      "Humidity       4 non-null object\n",
      "Wind           4 non-null object\n",
      "Weather        4 non-null object\n",
      "Forecast       4 non-null object\n",
      "EnjoySport?    4 non-null object\n",
      "dtypes: object(7)\n",
      "memory usage: 352.0+ bytes\n"
     ]
    }
   ],
   "source": [
    "df.info()"
   ]
  },
  {
   "cell_type": "code",
   "execution_count": 6,
   "metadata": {},
   "outputs": [],
   "source": [
    "#Example Type  ---> for japancar dataset\n",
    "#EnjoySport?   ---> for sport dataset\n",
    "#LikesSimon    ---> for girlsLikeSimon dataset\n",
    "\n",
    "output = df['EnjoySport?']\n",
    "df = df.drop(['EnjoySport?'],axis=1)\n",
    "rows = df.shape[0]\n",
    "cols = df.shape[1]"
   ]
  },
  {
   "cell_type": "code",
   "execution_count": 7,
   "metadata": {},
   "outputs": [],
   "source": [
    "data_array = df.to_numpy()\n",
    "output_array = output.to_numpy()"
   ]
  },
  {
   "cell_type": "code",
   "execution_count": 8,
   "metadata": {},
   "outputs": [
    {
     "name": "stdout",
     "output_type": "stream",
     "text": [
      "[['Sunny' 'Warm' 'Normal' 'Strong' 'Warm' 'Same']\n",
      " ['Sunny' 'Warm' 'High' 'Strong' 'Warm' 'Same']\n",
      " ['Rainy' 'Cold' 'High' 'Strong' 'Warm' 'Change']\n",
      " ['Sunny' 'Warm' 'High' 'Strong' 'Cool' 'Change']]\n",
      "['Yes' 'Yes' 'No' 'Yes']\n"
     ]
    }
   ],
   "source": [
    "print(data_array)\n",
    "print(output_array)"
   ]
  },
  {
   "cell_type": "code",
   "execution_count": 9,
   "metadata": {},
   "outputs": [],
   "source": [
    "general_hypothesis = []\n",
    "specific_hypothesis = ['None']*cols\n",
    "\n",
    "def candidateElimination(data_array, output_array):\n",
    "    for i in range(0,rows):\n",
    "        if(output_array[i] == 'Yes'):\n",
    "            specific_hypothesis = data_array[i]\n",
    "            break\n",
    "            \n",
    "    for i in range(0,rows):\n",
    "        if(output_array[i] == 'No'):\n",
    "            for j in range(0,cols):\n",
    "                temp = ['?']*cols\n",
    "                if data_array[i][j] != specific_hypothesis[j]:\n",
    "                    temp[j] = specific_hypothesis[j]\n",
    "                    general_hypothesis.append(temp)\n",
    "            break\n",
    "\n",
    "    for i in range(0,rows):\n",
    "        if(output_array[i] == 'Yes'):\n",
    "            for j in range(0,len(general_hypothesis)):\n",
    "                for k in range(0,cols):\n",
    "                    if general_hypothesis[j][k] == '?':\n",
    "                         ;   \n",
    "                    elif general_hypothesis[j][k] != data_array[i][k]:\n",
    "                        general_hypothesis[j][k]='?'\n",
    "                    if specific_hypothesis[k] != data_array[i][k]:\n",
    "                        specific_hypothesis[k] = '?'\n",
    "                        \n",
    "        else:\n",
    "            for j in range(0,len(general_hypothesis)):\n",
    "                flag = False\n",
    "                for k in range(0,cols):\n",
    "                    if general_hypothesis[j][k] != data_array[i][k] and general_hypothesis[j][k] != '?':\n",
    "                        flag = True\n",
    "                        break\n",
    "                if general_hypothesis[j] == ['?']*cols:\n",
    "                    ;\n",
    "                elif flag == False:\n",
    "                    for k in range(0,cols):\n",
    "                        if specific_hypothesis[k] != data_array[i][k] and specific_hypothesis[k]!='?':\n",
    "                            general_hypothesis[j][k] = specific_hypothesis[k]\n",
    "                            \n",
    "        print('ITERATION {}:'.format(i))\n",
    "        print('GENERAL HYPOTHESIS: ', general_hypothesis)\n",
    "        print('SPECIFIC HYPOTHESIS: ', specific_hypothesis)\n",
    "        print('\\n')\n",
    "                        \n",
    "    return specific_hypothesis,general_hypothesis"
   ]
  },
  {
   "cell_type": "code",
   "execution_count": 10,
   "metadata": {},
   "outputs": [
    {
     "name": "stdout",
     "output_type": "stream",
     "text": [
      "ITERATION 0:\n",
      "GENERAL HYPOTHESIS:  [['Sunny', '?', '?', '?', '?', '?'], ['?', 'Warm', '?', '?', '?', '?'], ['?', '?', 'Normal', '?', '?', '?'], ['?', '?', '?', '?', '?', 'Same']]\n",
      "SPECIFIC HYPOTHESIS:  ['Sunny' 'Warm' 'Normal' 'Strong' 'Warm' 'Same']\n",
      "\n",
      "\n",
      "ITERATION 1:\n",
      "GENERAL HYPOTHESIS:  [['Sunny', '?', '?', '?', '?', '?'], ['?', 'Warm', '?', '?', '?', '?'], ['?', '?', '?', '?', '?', '?'], ['?', '?', '?', '?', '?', 'Same']]\n",
      "SPECIFIC HYPOTHESIS:  ['Sunny' 'Warm' '?' 'Strong' 'Warm' 'Same']\n",
      "\n",
      "\n",
      "ITERATION 2:\n",
      "GENERAL HYPOTHESIS:  [['Sunny', '?', '?', '?', '?', '?'], ['?', 'Warm', '?', '?', '?', '?'], ['?', '?', '?', '?', '?', '?'], ['?', '?', '?', '?', '?', 'Same']]\n",
      "SPECIFIC HYPOTHESIS:  ['Sunny' 'Warm' '?' 'Strong' 'Warm' 'Same']\n",
      "\n",
      "\n",
      "ITERATION 3:\n",
      "GENERAL HYPOTHESIS:  [['Sunny', '?', '?', '?', '?', '?'], ['?', 'Warm', '?', '?', '?', '?'], ['?', '?', '?', '?', '?', '?'], ['?', '?', '?', '?', '?', '?']]\n",
      "SPECIFIC HYPOTHESIS:  ['Sunny' 'Warm' '?' 'Strong' '?' '?']\n",
      "\n",
      "\n"
     ]
    }
   ],
   "source": [
    "specific_hypothesis, general_hypothesis = candidateElimination(data_array, output_array)"
   ]
  },
  {
   "cell_type": "code",
   "execution_count": 11,
   "metadata": {},
   "outputs": [
    {
     "name": "stdout",
     "output_type": "stream",
     "text": [
      "GENERAL HYPOTHESIS:  [['Sunny', '?', '?', '?', '?', '?'], ['?', 'Warm', '?', '?', '?', '?']]\n",
      "SPECIFIC HYPOTHESIS:  ['Sunny' 'Warm' '?' 'Strong' '?' '?']\n"
     ]
    }
   ],
   "source": [
    "final_general_hypothesis = []\n",
    "\n",
    "for i in range(0,len(general_hypothesis)):\n",
    "    if general_hypothesis[i] == ['?']*cols:\n",
    "        ;\n",
    "    else:\n",
    "        final_general_hypothesis.append(general_hypothesis[i])\n",
    "print('GENERAL HYPOTHESIS: ', final_general_hypothesis)\n",
    "print('SPECIFIC HYPOTHESIS: ', specific_hypothesis)   "
   ]
  },
  {
   "cell_type": "code",
   "execution_count": 12,
   "metadata": {},
   "outputs": [
    {
     "name": "stdout",
     "output_type": "stream",
     "text": [
      "[['Sunny', 'Warm', '?', '?', '?', '?'], ['Sunny', '?', '?', 'Strong', '?', '?'], ['?', 'Warm', '?', 'Strong', '?', '?']]\n"
     ]
    }
   ],
   "source": [
    "#VERSION SPACE\n",
    "gen = dict()\n",
    "spe = dict()\n",
    "for i in range(0,cols):\n",
    "    if(specific_hypothesis[i]!='?'):\n",
    "        spe[i] = (specific_hypothesis[i])\n",
    "        \n",
    "for i in range(0,len(final_general_hypothesis)):\n",
    "    for j in range(0,cols):\n",
    "        if final_general_hypothesis[i][j] != '?':\n",
    "            gen[j] = final_general_hypothesis[i][j]\n",
    "        \n",
    "version_space = []\n",
    "visited = [[False for i in range(0,rows)] for j in range(0,cols) ]\n",
    "for no, val in spe.items():\n",
    "    for no2, val2 in gen.items():\n",
    "        emp_array = ['?' for i in range (0,cols)]\n",
    "        if(no!=no2 and not(visited[no][no2])):\n",
    "            emp_array[no]=val\n",
    "            emp_array[no2]=val2\n",
    "            version_space.append(emp_array)\n",
    "            visited[no][no2]=visited[no2][no]=True\n",
    "            \n",
    "print(version_space)"
   ]
  }
 ],
 "metadata": {
  "kernelspec": {
   "display_name": "python3.6",
   "language": "python",
   "name": "python3.6"
  },
  "language_info": {
   "codemirror_mode": {
    "name": "ipython",
    "version": 3
   },
   "file_extension": ".py",
   "mimetype": "text/x-python",
   "name": "python",
   "nbconvert_exporter": "python",
   "pygments_lexer": "ipython3",
   "version": "3.6.12"
  }
 },
 "nbformat": 4,
 "nbformat_minor": 2
}
