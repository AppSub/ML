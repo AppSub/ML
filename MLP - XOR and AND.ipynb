{
 "cells": [
  {
   "cell_type": "markdown",
   "metadata": {},
   "source": [
    "## MLP - XOR & AND\n",
    "Change the expected output according to the logical function"
   ]
  },
  {
   "cell_type": "code",
   "execution_count": 1,
   "metadata": {},
   "outputs": [],
   "source": [
    "import numpy as np\n",
    "import math"
   ]
  },
  {
   "cell_type": "code",
   "execution_count": 2,
   "metadata": {},
   "outputs": [],
   "source": [
    "#Input and corresponding output\n",
    "inputs = np.array([[1,0,0],[1,0,1],[1,1,0],[1,1,1]])   # with bias\n",
    "expected_output = np.array([[0],[1],[1],[0]])"
   ]
  },
  {
   "cell_type": "code",
   "execution_count": 3,
   "metadata": {},
   "outputs": [],
   "source": [
    "#Input neurons, hidden neurons, output neurons\n",
    "inp_neurons = 2\n",
    "hidden_neurons = 2\n",
    "output_neurons = 1"
   ]
  },
  {
   "cell_type": "code",
   "execution_count": 4,
   "metadata": {},
   "outputs": [
    {
     "name": "stdout",
     "output_type": "stream",
     "text": [
      "[[0.78773181 0.23284633 0.18604102]\n",
      " [0.58843871 0.10108829 0.4515005 ]] [[0.03656122 0.17215174 0.94060223]]\n"
     ]
    }
   ],
   "source": [
    "weight_matrix1 = np.random.uniform(size=(hidden_neurons,inp_neurons+1))   # 2*3 matrix\n",
    "weight_matrix2 = np.random.uniform(size=(output_neurons,hidden_neurons+1))   # 1*3 matrix\n",
    "print(weight_matrix1, weight_matrix2)"
   ]
  },
  {
   "cell_type": "code",
   "execution_count": 5,
   "metadata": {},
   "outputs": [],
   "source": [
    "def sigmoid(x):\n",
    "    return 1/(1+np.exp(-x))"
   ]
  },
  {
   "cell_type": "code",
   "execution_count": 6,
   "metadata": {},
   "outputs": [],
   "source": [
    "def sigmoid_derivative(x):\n",
    "    return x * (1 - x)"
   ]
  },
  {
   "cell_type": "markdown",
   "metadata": {},
   "source": [
    "###  Try changing the epochs and learning rate to get better results"
   ]
  },
  {
   "cell_type": "code",
   "execution_count": 7,
   "metadata": {},
   "outputs": [
    {
     "name": "stdout",
     "output_type": "stream",
     "text": [
      "[[0.04267466]\n",
      " [0.96168588]\n",
      " [0.96171207]\n",
      " [0.04075645]]\n"
     ]
    }
   ],
   "source": [
    "#Training\n",
    "\n",
    "epoch = 15000\n",
    "learning_rate = 0.1\n",
    "\n",
    "\n",
    "for i in range(0,epoch):\n",
    "    #Forward Propagation\n",
    "    hidden_layer_activation = []\n",
    "    output_layer_activation = []\n",
    "    for j in range(0,len(inputs)):\n",
    "        temp = np.dot(weight_matrix1,inputs[j])\n",
    "        temp = sigmoid(temp)\n",
    "        hidden_layer_activation.append(temp)\n",
    "    hidden_layer_activation = np.array(hidden_layer_activation)\n",
    "    hidden_layer_output = np.insert(hidden_layer_activation, 0, values=1, axis=1)\n",
    "#     print('HIDDEN LAYER OUTPUT:', hidden_layer_output)\n",
    "    \n",
    "    for j in range(0,len(hidden_layer_output)):\n",
    "        temp = np.dot(weight_matrix2,hidden_layer_output[j])\n",
    "        output_layer_activation.append(temp)\n",
    "    output_layer_activation = np.array(output_layer_activation)\n",
    "    predicted_output = sigmoid(output_layer_activation)\n",
    "#     print('PREDICTED OUTPUT:', predicted_output)\n",
    "    \n",
    "    \n",
    "    #Error calculation\n",
    "    oplayer_error = expected_output - predicted_output \n",
    "    derivative_oplayer_error = oplayer_error * sigmoid_derivative(predicted_output)\n",
    "#     print('OUTPUT ERROR:', oplayer_error)\n",
    "#     print('DERIVATIVE OUTPUT ERROR:', derivative_oplayer_error)\n",
    "    \n",
    "    hl1_error = np.dot(derivative_oplayer_error,weight_matrix2) \n",
    "    derivative_hl1_error = hl1_error * sigmoid_derivative(hidden_layer_output)\n",
    "    derivative_hl1_error = np.delete(derivative_hl1_error,0,1)\n",
    "#     print('HL1 ERROR:', hl1_error)\n",
    "#     print('DERIVATIVE HL1 ERROR:',derivative_hl1_error)\n",
    "    \n",
    "    #Update weight\n",
    "    weight_matrix2 += derivative_oplayer_error.T.dot(hidden_layer_output) * learning_rate\n",
    "    weight_matrix1 += derivative_hl1_error.T.dot(inputs)*learning_rate\n",
    "#     print('WEIGHT MATRIX 2: ',weight_matrix2)\n",
    "#     print('WEIGHT MATRIX 1: ',weight_matrix1)\n",
    "    \n",
    "print(predicted_output)\n",
    "    "
   ]
  },
  {
   "cell_type": "code",
   "execution_count": 8,
   "metadata": {},
   "outputs": [
    {
     "name": "stdout",
     "output_type": "stream",
     "text": [
      "FINAL INPUT LAYER WEIGHTS:\n",
      " [[-6.0381573   3.93855382  3.93624542]\n",
      " [-2.58705417  6.0514482   6.04022676]]\n",
      "FINAL HIDDEN LAYER WEIGHTS:\n",
      " [[-3.65536192 -8.7958442   8.08423556]]\n",
      "PREDICTED OUTPUT:\n",
      " [[0.04267466]\n",
      " [0.96168588]\n",
      " [0.96171207]\n",
      " [0.04075645]]\n"
     ]
    }
   ],
   "source": [
    "print('FINAL INPUT LAYER WEIGHTS:\\n', weight_matrix1)    # with bias\n",
    "print('FINAL HIDDEN LAYER WEIGHTS:\\n', weight_matrix2)   # with bias\n",
    "print('PREDICTED OUTPUT:\\n', predicted_output)"
   ]
  },
  {
   "cell_type": "code",
   "execution_count": 9,
   "metadata": {},
   "outputs": [
    {
     "name": "stdout",
     "output_type": "stream",
     "text": [
      "TOTAL ERROR: 0.006829064381882202\n",
      "ACCURACY: 99.31709356181177%\n"
     ]
    }
   ],
   "source": [
    "#Calculating Accuracy \n",
    "final_error = expected_output - predicted_output\n",
    "final_error = np.sum(final_error)\n",
    "final_error = abs(final_error)\n",
    "print('TOTAL ERROR:', final_error)\n",
    "print('ACCURACY: {}%'.format((1-final_error)*100))"
   ]
  }
 ],
 "metadata": {
  "kernelspec": {
   "display_name": "python3.6",
   "language": "python",
   "name": "python3.6"
  },
  "language_info": {
   "codemirror_mode": {
    "name": "ipython",
    "version": 3
   },
   "file_extension": ".py",
   "mimetype": "text/x-python",
   "name": "python",
   "nbconvert_exporter": "python",
   "pygments_lexer": "ipython3",
   "version": "3.6.12"
  }
 },
 "nbformat": 4,
 "nbformat_minor": 2
}
