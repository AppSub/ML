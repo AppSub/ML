{
 "cells": [
  {
   "cell_type": "markdown",
   "metadata": {},
   "source": [
    "## RADIAL BASIS FUNCTION\n",
    "Change the expected_output according to function"
   ]
  },
  {
   "cell_type": "code",
   "execution_count": 1,
   "metadata": {},
   "outputs": [],
   "source": [
    "import numpy as np\n",
    "import math\n",
    "import matplotlib.pyplot as plt \n",
    "\n",
    "%matplotlib inline"
   ]
  },
  {
   "cell_type": "code",
   "execution_count": 2,
   "metadata": {},
   "outputs": [],
   "source": [
    "#Input and corresponding output\n",
    "inputs = np.array([[0,0],[0,1],[1,0],[1,1]])   # with bias\n",
    "expected_output = np.array([[0],[1],[1],[0]])"
   ]
  },
  {
   "cell_type": "markdown",
   "metadata": {},
   "source": [
    "### This is for RBF with 2 centres\n",
    "For RBF with 4 centres, centres = np.array([[0,0],[0,1],[1,0],[1,1]])"
   ]
  },
  {
   "cell_type": "code",
   "execution_count": 3,
   "metadata": {},
   "outputs": [
    {
     "name": "stdout",
     "output_type": "stream",
     "text": [
      "[[0 0]\n",
      " [1 1]]\n"
     ]
    }
   ],
   "source": [
    "centres = np.array([[0,0],[1,1]])\n",
    "# centres = np.array([[0,0],[0,1],[1,0],[1,1]])\n",
    "print(centres)"
   ]
  },
  {
   "cell_type": "code",
   "execution_count": 4,
   "metadata": {},
   "outputs": [],
   "source": [
    "#Calculating radius using Euclidean distance\n",
    "def calc_radius(X,C):\n",
    "    r = 0\n",
    "    rad = []\n",
    "    for j in range(len(C)):\n",
    "        r = 0\n",
    "        for k in range(len(C[j])):\n",
    "            r+=abs(X[k]-C[j][k])**2\n",
    "        rad.append(r)\n",
    "    return rad"
   ]
  },
  {
   "cell_type": "code",
   "execution_count": 5,
   "metadata": {},
   "outputs": [
    {
     "name": "stdout",
     "output_type": "stream",
     "text": [
      "RADIUS:\n",
      " [[0 2]\n",
      " [1 1]\n",
      " [1 1]\n",
      " [2 0]]\n"
     ]
    }
   ],
   "source": [
    "radius = []\n",
    "for i in range(len(inputs)):\n",
    "    radius.append(calc_radius(inputs[i],centres))\n",
    "radius = np.array(radius)\n",
    "print('RADIUS:\\n',radius)"
   ]
  },
  {
   "cell_type": "code",
   "execution_count": 6,
   "metadata": {},
   "outputs": [],
   "source": [
    "#Gaussian function\n",
    "def gaussian(f):\n",
    "    return 1/math.exp(f)"
   ]
  },
  {
   "cell_type": "code",
   "execution_count": 7,
   "metadata": {},
   "outputs": [],
   "source": [
    "#Calculating the values for hidden neurons\n",
    "def calc_neuron(X,C):\n",
    "    neu = []\n",
    "    for j in range(len(C)):\n",
    "        r = 0\n",
    "        for k in range(len(C[j])):\n",
    "            r+=(X[k]-C[j][k])**2\n",
    "            val = gaussian(r);\n",
    "        neu.append(val)\n",
    "    return neu"
   ]
  },
  {
   "cell_type": "code",
   "execution_count": 8,
   "metadata": {},
   "outputs": [
    {
     "name": "stdout",
     "output_type": "stream",
     "text": [
      "HIDDEN NEURON: \n",
      " [[1.         0.13533528]\n",
      " [0.36787944 0.36787944]\n",
      " [0.36787944 0.36787944]\n",
      " [0.13533528 1.        ]]\n"
     ]
    }
   ],
   "source": [
    "# No of hiden neurons to be changed to 4 in case of 4 centres\n",
    "hidden_neurons = 4\n",
    "neuron = []\n",
    "neuron_new = []\n",
    "for i in range(len(inputs)):\n",
    "    neuron.append(calc_neuron(inputs[i],centres))\n",
    "neuron = np.array(neuron)\n",
    "print('HIDDEN NEURON: \\n',neuron)\n"
   ]
  },
  {
   "cell_type": "code",
   "execution_count": 9,
   "metadata": {},
   "outputs": [
    {
     "name": "stdout",
     "output_type": "stream",
     "text": [
      "[[1.         0.13533528]\n",
      " [0.36787944 0.36787944]\n",
      " [0.36787944 0.36787944]\n",
      " [0.13533528 1.        ]]\n"
     ]
    },
    {
     "data": {
      "text/plain": [
       "Text(0, 0.5, 'Neuron 2')"
      ]
     },
     "execution_count": 9,
     "metadata": {},
     "output_type": "execute_result"
    },
    {
     "data": {
      "image/png": "[encoded data removed]",
      "text/plain": [
       "<Figure size 432x288 with 1 Axes>"
      ]
     },
     "metadata": {
      "needs_background": "light"
     },
     "output_type": "display_data"
    }
   ],
   "source": [
    "print(neuron)\n",
    "plt.scatter(neuron[:,0],neuron[:,1],label = 'neu1vsneu2',color='blue')\n",
    "# plt.scatter(neuron[0:1,0],neuron[0:1,1],label = 'neu1vsneu2',color='red')\n",
    "# plt.axis([0,34,200000,1500000])\n",
    "plt.xlabel('Neuron 1')\n",
    "plt.ylabel('Neuron 2')\n",
    "# plt.xticks(np.arange(0,34,1.0))"
   ]
  },
  {
   "cell_type": "markdown",
   "metadata": {},
   "source": [
    "## Need to add code for the second part - SLP weight calculation"
   ]
  },
  {
   "cell_type": "code",
   "execution_count": 10,
   "metadata": {},
   "outputs": [],
   "source": [
    "# Now with SLP, we can find weights using solving simulntaneous linear equation\n",
    "weights = [-1,-1,1]  # This is for 2 centres. Similarly, calculate weights for 4 centres\n"
   ]
  },
  {
   "cell_type": "code",
   "execution_count": 11,
   "metadata": {},
   "outputs": [
    {
     "name": "stdout",
     "output_type": "stream",
     "text": [
      "Weights after getting the hidden neuron values:\n",
      " [-1, -1, 1]\n"
     ]
    }
   ],
   "source": [
    "print('Weights after getting the hidden neuron values:\\n',weights)"
   ]
  }
 ],
 "metadata": {
  "kernelspec": {
   "display_name": "python3.6",
   "language": "python",
   "name": "python3.6"
  },
  "language_info": {
   "codemirror_mode": {
    "name": "ipython",
    "version": 3
   },
   "file_extension": ".py",
   "mimetype": "text/x-python",
   "name": "python",
   "nbconvert_exporter": "python",
   "pygments_lexer": "ipython3",
   "version": "3.6.12"
  }
 },
 "nbformat": 4,
 "nbformat_minor": 2
}
