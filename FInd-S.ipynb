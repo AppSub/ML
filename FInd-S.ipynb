{
 "cells": [
  {
   "cell_type": "code",
   "execution_count": 1,
   "metadata": {},
   "outputs": [],
   "source": [
    "import pandas as pd\n",
    "import numpy as np"
   ]
  },
  {
   "cell_type": "code",
   "execution_count": 2,
   "metadata": {},
   "outputs": [],
   "source": [
    "# Reading dataset \n",
    "df = pd.read_csv(\"girlslikesimon_dataset.csv\")"
   ]
  },
  {
   "cell_type": "code",
   "execution_count": 3,
   "metadata": {},
   "outputs": [
    {
     "data": {
      "text/html": [
       "<div>\n",
       "<style scoped>\n",
       "    .dataframe tbody tr th:only-of-type {\n",
       "        vertical-align: middle;\n",
       "    }\n",
       "\n",
       "    .dataframe tbody tr th {\n",
       "        vertical-align: top;\n",
       "    }\n",
       "\n",
       "    .dataframe thead th {\n",
       "        text-align: right;\n",
       "    }\n",
       "</style>\n",
       "<table border=\"1\" class=\"dataframe\">\n",
       "  <thead>\n",
       "    <tr style=\"text-align: right;\">\n",
       "      <th></th>\n",
       "      <th>Hair</th>\n",
       "      <th>Body</th>\n",
       "      <th>Pose</th>\n",
       "      <th>Smile</th>\n",
       "      <th>Smart</th>\n",
       "      <th>LikesSimon</th>\n",
       "    </tr>\n",
       "  </thead>\n",
       "  <tbody>\n",
       "    <tr>\n",
       "      <th>0</th>\n",
       "      <td>Blond</td>\n",
       "      <td>Thin</td>\n",
       "      <td>Arrogant</td>\n",
       "      <td>Toothy</td>\n",
       "      <td>No</td>\n",
       "      <td>Yes</td>\n",
       "    </tr>\n",
       "    <tr>\n",
       "      <th>1</th>\n",
       "      <td>Brown</td>\n",
       "      <td>Thin</td>\n",
       "      <td>Natural</td>\n",
       "      <td>Pleasant</td>\n",
       "      <td>Yes</td>\n",
       "      <td>No</td>\n",
       "    </tr>\n",
       "    <tr>\n",
       "      <th>2</th>\n",
       "      <td>Blond</td>\n",
       "      <td>Plump</td>\n",
       "      <td>Goofy</td>\n",
       "      <td>Pleasant</td>\n",
       "      <td>No</td>\n",
       "      <td>Yes</td>\n",
       "    </tr>\n",
       "    <tr>\n",
       "      <th>3</th>\n",
       "      <td>Black</td>\n",
       "      <td>Thin</td>\n",
       "      <td>Arrogant</td>\n",
       "      <td>None</td>\n",
       "      <td>No</td>\n",
       "      <td>No</td>\n",
       "    </tr>\n",
       "    <tr>\n",
       "      <th>4</th>\n",
       "      <td>Blond</td>\n",
       "      <td>Plump</td>\n",
       "      <td>Natural</td>\n",
       "      <td>Toothy</td>\n",
       "      <td>Yes</td>\n",
       "      <td>No</td>\n",
       "    </tr>\n",
       "  </tbody>\n",
       "</table>\n",
       "</div>"
      ],
      "text/plain": [
       "    Hair   Body      Pose     Smile Smart LikesSimon\n",
       "0  Blond   Thin  Arrogant    Toothy    No        Yes\n",
       "1  Brown   Thin   Natural  Pleasant   Yes         No\n",
       "2  Blond  Plump     Goofy  Pleasant    No        Yes\n",
       "3  Black   Thin  Arrogant      None    No         No\n",
       "4  Blond  Plump   Natural    Toothy   Yes         No"
      ]
     },
     "execution_count": 3,
     "metadata": {},
     "output_type": "execute_result"
    }
   ],
   "source": [
    "df"
   ]
  },
  {
   "cell_type": "code",
   "execution_count": 4,
   "metadata": {},
   "outputs": [
    {
     "name": "stdout",
     "output_type": "stream",
     "text": [
      "(5, 6)\n"
     ]
    }
   ],
   "source": [
    "print(df.shape)"
   ]
  },
  {
   "cell_type": "code",
   "execution_count": 5,
   "metadata": {},
   "outputs": [
    {
     "name": "stdout",
     "output_type": "stream",
     "text": [
      "<class 'pandas.core.frame.DataFrame'>\n",
      "RangeIndex: 5 entries, 0 to 4\n",
      "Data columns (total 6 columns):\n",
      "Hair          5 non-null object\n",
      "Body          5 non-null object\n",
      "Pose          5 non-null object\n",
      "Smile         5 non-null object\n",
      "Smart         5 non-null object\n",
      "LikesSimon    5 non-null object\n",
      "dtypes: object(6)\n",
      "memory usage: 368.0+ bytes\n"
     ]
    }
   ],
   "source": [
    "df.info()"
   ]
  },
  {
   "cell_type": "code",
   "execution_count": 6,
   "metadata": {},
   "outputs": [],
   "source": [
    "#Example Type  ---> for japancar dataset\n",
    "#EnjoySport?   ---> for sport dataset\n",
    "#LikesSimon    ---> for girlsLikeSimon dataset\n",
    "\n",
    "output = df['LikesSimon']\n",
    "df = df.drop(['LikesSimon'],axis=1)\n",
    "rows = df.shape[0]\n",
    "cols = df.shape[1]"
   ]
  },
  {
   "cell_type": "code",
   "execution_count": 7,
   "metadata": {},
   "outputs": [],
   "source": [
    "data_array = df.to_numpy()\n",
    "output_array = output.to_numpy()"
   ]
  },
  {
   "cell_type": "code",
   "execution_count": 8,
   "metadata": {},
   "outputs": [
    {
     "name": "stdout",
     "output_type": "stream",
     "text": [
      "[['Blond' 'Thin' 'Arrogant' 'Toothy' 'No']\n",
      " ['Brown' 'Thin' 'Natural' 'Pleasant' 'Yes']\n",
      " ['Blond' 'Plump' 'Goofy' 'Pleasant' 'No']\n",
      " ['Black' 'Thin' 'Arrogant' 'None' 'No']\n",
      " ['Blond' 'Plump' 'Natural' 'Toothy' 'Yes']]\n",
      "['Yes' 'No' 'Yes' 'No' 'No']\n"
     ]
    }
   ],
   "source": [
    "print(data_array)\n",
    "print(output_array)"
   ]
  },
  {
   "cell_type": "code",
   "execution_count": 9,
   "metadata": {},
   "outputs": [
    {
     "name": "stdout",
     "output_type": "stream",
     "text": [
      "['None', 'None', 'None', 'None', 'None']\n"
     ]
    }
   ],
   "source": [
    "# Initialize specific hypothesis\n",
    "specific_hypothesis = ['None']*cols\n",
    "print(specific_hypothesis)"
   ]
  },
  {
   "cell_type": "code",
   "execution_count": 10,
   "metadata": {},
   "outputs": [],
   "source": [
    "def findS(data_array, output_array):\n",
    "    for i in range(0,rows):\n",
    "        if(output_array[i] == 'Yes'):\n",
    "            specific_hypothesis = data_array[i]\n",
    "            break\n",
    "            \n",
    "    for j in range(0,rows):\n",
    "        if(output_array[j] == 'Yes'):\n",
    "            for k in range(0,cols):\n",
    "                if specific_hypothesis[k] != data_array[j][k]:\n",
    "                    specific_hypothesis[k] = '?'\n",
    "        print('ITERATION {}:'.format(j), 'SPECIFIC HYPOTHESIS: ', specific_hypothesis, '\\n')\n",
    "    return specific_hypothesis"
   ]
  },
  {
   "cell_type": "code",
   "execution_count": 11,
   "metadata": {},
   "outputs": [
    {
     "name": "stdout",
     "output_type": "stream",
     "text": [
      "ITERATION 0: SPECIFIC HYPOTHESIS:  ['Blond' 'Thin' 'Arrogant' 'Toothy' 'No'] \n",
      "\n",
      "ITERATION 1: SPECIFIC HYPOTHESIS:  ['Blond' 'Thin' 'Arrogant' 'Toothy' 'No'] \n",
      "\n",
      "ITERATION 2: SPECIFIC HYPOTHESIS:  ['Blond' '?' '?' '?' 'No'] \n",
      "\n",
      "ITERATION 3: SPECIFIC HYPOTHESIS:  ['Blond' '?' '?' '?' 'No'] \n",
      "\n",
      "ITERATION 4: SPECIFIC HYPOTHESIS:  ['Blond' '?' '?' '?' 'No'] \n",
      "\n"
     ]
    }
   ],
   "source": [
    "specific_hypothesis = findS(data_array, output_array)"
   ]
  },
  {
   "cell_type": "code",
   "execution_count": 12,
   "metadata": {},
   "outputs": [
    {
     "name": "stdout",
     "output_type": "stream",
     "text": [
      "['Blond' '?' '?' '?' 'No']\n"
     ]
    }
   ],
   "source": [
    "print(specific_hypothesis)"
   ]
  }
 ],
 "metadata": {
  "kernelspec": {
   "display_name": "python3.6",
   "language": "python",
   "name": "python3.6"
  },
  "language_info": {
   "codemirror_mode": {
    "name": "ipython",
    "version": 3
   },
   "file_extension": ".py",
   "mimetype": "text/x-python",
   "name": "python",
   "nbconvert_exporter": "python",
   "pygments_lexer": "ipython3",
   "version": "3.6.12"
  }
 },
 "nbformat": 4,
 "nbformat_minor": 2
}
