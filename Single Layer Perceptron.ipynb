{
 "cells": [
  {
   "cell_type": "code",
   "execution_count": 1,
   "metadata": {},
   "outputs": [],
   "source": [
    "import numpy as np\n",
    "import pandas as pd\n",
    "import math\n",
    "import random "
   ]
  },
  {
   "cell_type": "markdown",
   "metadata": {},
   "source": [
    "### Set output for each logical function before using \n",
    "The first entry in inp is for bias. We take bias value to be 1"
   ]
  },
  {
   "cell_type": "code",
   "execution_count": 2,
   "metadata": {},
   "outputs": [],
   "source": [
    "inp = [[1,0,0], [1,0,1], [1,1,0], [1,1,1]]\n",
    "outp = [0,0,0,1]\n",
    "inp = np.array(inp).reshape(4,3)\n",
    "outp = np.array(outp).reshape(4,1)\n",
    "learning_rate = 0.1"
   ]
  },
  {
   "cell_type": "code",
   "execution_count": 3,
   "metadata": {},
   "outputs": [
    {
     "name": "stdout",
     "output_type": "stream",
     "text": [
      "INPUT:  [[1 0 0]\n",
      " [1 0 1]\n",
      " [1 1 0]\n",
      " [1 1 1]]\n",
      "OUTPUT:  [[0]\n",
      " [0]\n",
      " [0]\n",
      " [1]]\n",
      "LEARNING RATE:  0.1\n"
     ]
    }
   ],
   "source": [
    "print('INPUT: ',inp)\n",
    "print('OUTPUT: ',outp)\n",
    "print('LEARNING RATE: ',learning_rate)\n",
    "rows = 4\n",
    "cols = 3"
   ]
  },
  {
   "cell_type": "code",
   "execution_count": 4,
   "metadata": {},
   "outputs": [
    {
     "name": "stdout",
     "output_type": "stream",
     "text": [
      "[-0.74743402  0.71893076 -0.78208045]\n"
     ]
    }
   ],
   "source": [
    "#Initialise random weights\n",
    "weights = np.random.uniform(low=-0.9, high=0.9, size=(3,))\n",
    "np.transpose(weights)\n",
    "print(weights)"
   ]
  },
  {
   "cell_type": "code",
   "execution_count": 5,
   "metadata": {},
   "outputs": [],
   "source": [
    "# Forward propagation with a weight\n",
    "# then find error\n",
    "# if error = 0 stop that is the cost\n",
    "# else do backpropagation \n",
    "\n",
    "# In Feedforward, calculate the sum of weights and input\n",
    "# weights is 1*3\n",
    "# input is 4*3\n",
    "# thus take weights transpose\n",
    "# sum = input * weight(T) \n",
    "\n",
    "def feedForward(input_values):\n",
    "    sum_value = (np.dot(input_values,weights))\n",
    "    if sum_value > 0:\n",
    "        sum_value = 1\n",
    "    else:\n",
    "        sum_value = 0\n",
    "    return sum_value"
   ]
  },
  {
   "cell_type": "code",
   "execution_count": 6,
   "metadata": {},
   "outputs": [],
   "source": [
    "def costFunction(predicted_output, actual_output):\n",
    "    error = 0\n",
    "    for i in range(0,len(predicted_output)):\n",
    "        error = error + abs(predicted_outp - actual_output[i])"
   ]
  },
  {
   "cell_type": "code",
   "execution_count": 7,
   "metadata": {},
   "outputs": [],
   "source": [
    "def backPropagate(weights, predicted_output, actual_output, inp):\n",
    "    for i in range(0,len(weights)):\n",
    "        weights[i] = weights[i] + learning_rate * (actual_output - predicted_output) * inp[i]\n",
    "    return weights"
   ]
  },
  {
   "cell_type": "code",
   "execution_count": 8,
   "metadata": {},
   "outputs": [
    {
     "name": "stdout",
     "output_type": "stream",
     "text": [
      "ITERATION 0: [-0.64743402  0.81893076 -0.68208045] \n",
      "\n",
      "ITERATION 1: [-0.64743402  0.81893076 -0.58208045] \n",
      "\n",
      "ITERATION 2: [-0.64743402  0.81893076 -0.48208045] \n",
      "\n",
      "ITERATION 3: [-0.64743402  0.81893076 -0.38208045] \n",
      "\n",
      "ITERATION 4: [-0.64743402  0.81893076 -0.28208045] \n",
      "\n",
      "ITERATION 5: [-0.64743402  0.81893076 -0.18208045] \n",
      "\n",
      "ITERATION 6: [-0.64743402  0.81893076 -0.08208045] \n",
      "\n",
      "ITERATION 7: [-0.64743402  0.81893076  0.01791955] \n",
      "\n",
      "ITERATION 8: [-0.64743402  0.81893076  0.11791955] \n",
      "\n",
      "ITERATION 9: [-0.74743402  0.71893076  0.11791955] \n",
      "\n",
      "ITERATION 10: [-0.74743402  0.71893076  0.11791955] \n",
      "\n"
     ]
    }
   ],
   "source": [
    "# Set epoch to 45000 for XOR function\n",
    "epoch = 1000\n",
    "for j in range(0,epoch):\n",
    "    error = 0\n",
    "    for i in range(0,len(inp)):\n",
    "        predicted_output = feedForward(inp[i])\n",
    "        if predicted_output != outp[i]:\n",
    "            weights = backPropagate(weights, predicted_output, outp[i], inp[i])\n",
    "            error = error + 1\n",
    "    print('ITERATION {}:'.format(j),weights,'\\n')\n",
    "    if error == 0:\n",
    "        break"
   ]
  },
  {
   "cell_type": "code",
   "execution_count": 9,
   "metadata": {},
   "outputs": [
    {
     "name": "stdout",
     "output_type": "stream",
     "text": [
      "The function is linearly separable\n",
      "FINAL WEIGHTS:  [-0.74743402  0.71893076  0.11791955]\n"
     ]
    }
   ],
   "source": [
    "if i>=epoch:\n",
    "    print('Unable to linearly separate the logical function')\n",
    "else :\n",
    "    print('The function is linearly separable')\n",
    "print('FINAL WEIGHTS: ', weights)"
   ]
  }
 ],
 "metadata": {
  "kernelspec": {
   "display_name": "python3.6",
   "language": "python",
   "name": "python3.6"
  },
  "language_info": {
   "codemirror_mode": {
    "name": "ipython",
    "version": 3
   },
   "file_extension": ".py",
   "mimetype": "text/x-python",
   "name": "python",
   "nbconvert_exporter": "python",
   "pygments_lexer": "ipython3",
   "version": "3.6.12"
  }
 },
 "nbformat": 4,
 "nbformat_minor": 2
}
